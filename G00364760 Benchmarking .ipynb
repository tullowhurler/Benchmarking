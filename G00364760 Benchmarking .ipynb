{
 "cells": [
  {
   "cell_type": "markdown",
   "metadata": {},
   "source": [
    "# Introduction\n",
    "\n",
    "In computer science a sorting algorithm is an algorithm that consists of a set of instructions that takes an array as input, manipulates it using specified operations, and outputs a sorted array generally in numerical order (1). The algorithm takes the input array and outputs a permutation of the array that has been sorted. Sorting algorithms are very important for other computational algorithms to work efficiently like merge and search algorithms(2). \n",
    "\n",
    "The first sorting algorithm that was created was bubble sort in 1956 with Betty Holbertong being the pioneer of sorting algorithms in 1951. It was recognized by the early computer scientists that stable and reusable sorting algorithms would play an important role in the future of computer science(2). \n"
   ]
  },
  {
   "cell_type": "markdown",
   "metadata": {},
   "source": [
    "# References\n",
    "\n",
    "1. https://brilliant.org/wiki/sorting-algorithms/  Visited on the 17/4/19 \n",
    "2. https://en.wikipedia.org/wiki/Sorting_algorithm Visited on the 17/4/19"
   ]
  },
  {
   "cell_type": "code",
   "execution_count": null,
   "metadata": {},
   "outputs": [],
   "source": [
    "\n",
    "\n",
    "# Python3 program to sort an array  \n",
    "# using bucket sort \n",
    "import time;\n",
    "start_time = time.time()\n",
    "\n",
    "\n",
    "def insertionSort(b): \n",
    "    for i in range(1, len(b)): \n",
    "        up = b[i] \n",
    "        j = i - 1\n",
    "        while j >=0 and b[j] > up:  \n",
    "            b[j + 1] = b[j] \n",
    "            j -= 1\n",
    "        b[j + 1] = up     \n",
    "    return b      \n",
    "              \n",
    "def bucketSort(x): \n",
    "    arr = [] \n",
    "    slot_num = 10 # 10 means 10 slots, each \n",
    "                  # slot's size is 0.1 \n",
    "    for i in range(slot_num): \n",
    "        arr.append([]) \n",
    "          \n",
    "    # Put array elements in different buckets  \n",
    "    for j in x: \n",
    "        index_b = int(slot_num * j)  \n",
    "        arr[index_b].append(j) \n",
    "      \n",
    "    # Sort individual buckets  \n",
    "    for i in range(slot_num): \n",
    "        arr[i] = insertionSort(arr[i]) \n",
    "          \n",
    "    # concatenate the result \n",
    "    k = 0\n",
    "    for i in range(slot_num): \n",
    "        for j in range(len(arr[i])): \n",
    "            x[k] = arr[i][j] \n",
    "            k += 1\n",
    "    return x \n",
    "  \n",
    "# Driver Code \n",
    "x = [0.897, 0.565, 0.656, \n",
    "     0.1234, 0.665, 0.3434]  \n",
    "print(\"Sorted Array is\") \n",
    "print(bucketSort(x)) \n",
    "  \n",
    "# This code is contributed by \n",
    "# Oneil Hsiao \n",
    "\n",
    "end_time = time.time()\n",
    "time_elapsed = end_time - start_time \n",
    "print(\"Benchmark time equals\", time_elapsed)\n"
   ]
  },
  {
   "cell_type": "code",
   "execution_count": null,
   "metadata": {},
   "outputs": [],
   "source": []
  }
 ],
 "metadata": {
  "kernelspec": {
   "display_name": "Python 3",
   "language": "python",
   "name": "python3"
  },
  "language_info": {
   "codemirror_mode": {
    "name": "ipython",
    "version": 3
   },
   "file_extension": ".py",
   "mimetype": "text/x-python",
   "name": "python",
   "nbconvert_exporter": "python",
   "pygments_lexer": "ipython3",
   "version": "3.6.5"
  }
 },
 "nbformat": 4,
 "nbformat_minor": 2
}
