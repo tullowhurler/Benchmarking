{
 "cells": [
  {
   "cell_type": "markdown",
   "metadata": {},
   "source": [
    "# Introduction\n",
    "\n",
    "In computer science a sorting algorithm is an algorithm that consists of a set of instructions that takes an array as input, manipulates it using specified operations, and outputs a sorted array generally in numerical order (1). The algorithm takes the input array and outputs a permutation of the array that has been sorted. Sorting algorithms are very important for other computational algorithms to work efficiently like merge and search algorithms(2). \n",
    "\n",
    "The first sorting algorithm that was created was bubble sort in 1956 with Betty Holbertong being the pioneer of sorting algorithms in 1951. It was recognized by the early computer scientists that stable and reusable sorting algorithms would play an important role in the future of computer science(2). \n",
    "\n",
    "Sorting algorithms can be divided up into comparison sorts and integer sorts. Comparison sorts compare elements at each step of the algorithm to identify if one element should be to the left or right of another element(3).Comparison sorts are generally easier to implement than integer sorts, but comparison sorts are limited by a lower bound of O(nlogn). A comparison sort can be modeled as a large binary tree called a decision tree where each node represents a single comparison (3). At every subsequent level of the tree you divide problem into half and do constant amount of additional work. O(log N) is found when time goes up linearly while the input goes up exponentially(4). \n",
    "\n",
    "Integer sorts work differently and do not make comparisons, so they are not bounded by Ω(nlogn). Integer sorts determine for each element X how many elements are less than X and work through the array in that fashion (3). This information is used to place each element into the correct slot immediately—no need to rearrange lists.The ability to perform integer arithmetic on the keys allows integer sorting algorithms to be faster than comparison sorting algorithms(5).\n",
    "\n",
    "Sorting algorithms can be identified through their time complexity and space complexity. Time complexity is how fast the algorithm runs and is estimated by counting the number of elemenary operations performed by the algorithm, supposing that each individual operation takes a fixed amount of time to run(6). The time required by the algorithm falls under the three types: Worst case - Maximum time required by an algorithm to complete its instructions and it is most common way to analyze an algorithm. Best case - Minimum time required for the algorithm. Average case is the time required for an algorithm  and it is sometimes done while analyzing the algorithm (13). The running time of a sorting algorithm is measured in terms of big O, and not Omega and only rarely Theta. Big O notation is used to express the upper bound of an algorithm and which gives the measure for the worst time complexity for an algorithm take to complete it's job(13). For example, if an algorithm had a worst-case running time of O(nlogn), then it is understood that the algorithm will never be slower than O(nlogn), and if an algorithm has an average-case running time of O(n2)O(n2), then on average, it will not be slower than O(n2)O(n2) (7). The better the time complexity of an algorithm is, the faster the algorithm will carry out his work in practice. \n",
    "\n",
    "Space complexity is the number of memory cells which an algorithm needs to perform it's operation. A good algorithm keeps this number as small as possible. There is often a time-space-tradeoff involved in choosing the algorithm as in general problems cannot be solved with low computing time and low memory consumption (8). One then has to make a decision and to choose computing time for memory consumption or vice versa.  For example, insertion sort has a space complexity of O(1), because it doesn't need extra allocation of memory in order to sort the provided collection. In this case we say that the sorting operation is done in-place(8). In place sorting is modifying the given list by only changing the element order in the existing list. This saves on memory and is very space efficient.\n",
    "Merge sort is different, and it has a space complexity of O(n). Merge sort recursively divides the array in two  creating a new array at each step. The sorting operation requires the allocation of new space in memory. This obviously requires extra RAM and storage(9).\n",
    "\n",
    "Another important characteristic of a sorting algorithm is it's stability. Sorting stability means that records with the same key retain their relative order before and after the sort (10). Some sorting algorithms are stable by nature like Insertion sort, Merge Sort or Bubble Sort. And some sorting algorithms are not, like Heap Sort or Quick Sort. Stability is generally only important if the problem you are solving requires the rentenion of the array in the order provided. Depending on the importance of stability it is possible to choose very different sorting algorithms for the problem. If you don't need stability, you can use a fast, low space complexity algorithm like heapsort or quicksort. By contrast stable algorithms have higher big-O CPU and memory usage than unstable algorithms (11). This again goes back to the trade off between time and space complexity when choosing an appropriate sorting algorithm. \n",
    "\n",
    "The future of sorting algorithms appears to be creation hybrid algorithms like Timsort that was developed in 2002 and implemented on the Python programming language(12). Timsort is a combination of the well estabished merge sort and insertion sort. Computer scientists very early on realised the importance of these types of algorithms and it is considered that sorting algorithms are unlikely to become any more efficient than they already are. "
   ]
  },
  {
   "cell_type": "markdown",
   "metadata": {},
   "source": [
    "# Sorting Algorithms"
   ]
  },
  {
   "cell_type": "markdown",
   "metadata": {},
   "source": [
    "## Bucket Sort\n",
    "\n",
    "Bucket sort is a comparison sort algorithm that operates on elements by placing them into different buckets and then sorting each buckets individually. Each bucket is sorted using a separate sorting algorithm or by applying the bucket sort algorithm recursively. Bucket sort is particularly useful if the input is uniformly distributed over a range(14). The computational complexity depends on the algorithm used to sort each bucket, the number of buckets required, and whether the input is uniformly distributed. \n",
    "\n",
    "Bucket sort works as follows: \n",
    "1. Set up an array of initially empty \"buckets\".\n",
    "2. Scatter: Go over the original array, putting each object in its bucket.\n",
    "3. Sort each non-empty bucket.\n",
    "4. Gather: Visit the buckets in order and put all elements back into the original array(15). \n",
    "\n",
    "A drawback for the bucket sort, is that the maximum value of the array must be known (16).\n",
    "\n",
    "\n",
    "When the input contains several element that are clustered together, these elements are expected to be placed in the same bucket, which results in some buckets containing more elements than others. The worst-case scenario occurs when all the elements are placed in a single bucket(16). The overall performance would then be dominated by the algorithm used to sort each bucket, which is typically O(n2). Bucket sort has a space complexity on 0(n . k). (14)\n",
    "\n",
    "The most common type of bucket sort works on a list of n numeric elements between zero and the maximum value M and divides the value range into n buckets each of size M/n. If each bucket is sorted using insertion sort, the sort can be shown to run in expected linear time. The performance of this sort worsens with clustering; if many values occur close together, they will all fall into a single bucket and be sorted slower. \n",
    "\n",
    "![Bucket_sort_1](Img/Bucket_sort_1.svg.png)"
   ]
  },
  {
   "cell_type": "markdown",
   "metadata": {},
   "source": [
    "### Selection Sort \n",
    "\n",
    "The selection sort algorithm is more economical compared with bubble sort as it only makes one exchange for every pass through the list. Bubble sort selects the maximum remaining elements at each stage, but wastes some effort imparting some order to an unsorted part of the array. \n",
    "\n",
    "Selection sort locates the largest value as it makes a pass and, after completing the pass, places it in the proper location. As with a bubble sort, after the first pass, the largest item is in the correct place. After the second pass, the next largest is in place. Selection sort is quadratic in both the worst and the average case, and requires no extra memory. Selection sort has a space complexity of O(1).(20). However, due to the reduced number of exchanges, selection sort typically executes faster in benchmark studies(17). Selection is only useful on smaller arrays and is inadequate when dealing with larger arrays. (19)\n",
    "\n",
    "The selection sort algorithm sorts an array by repeatedly finding the minimum element from an unsorted array and places it at the beginning. The algorithm maintains two subarrays in a given array.\n",
    "1) The subarray which is already sorted.\n",
    "2) Remaining subarray which is unsorted.\n",
    "(18). \n",
    "\n",
    "\n",
    "\n",
    "![selectionsort.png](Img/selectionsort.png)"
   ]
  },
  {
   "cell_type": "markdown",
   "metadata": {},
   "source": [
    "### MergeSort \n",
    "\n",
    "Merge-sort is based on the divide-and-conquer paradigm. It involves the following three steps: \n",
    "1. Divide the array into two or more subarrays \n",
    "2. Sort each subarray \n",
    "3. Merge them into one (21)\n",
    "\n",
    "Merge sort is a recursive algorithm that continually splits an array in half. If the given array has more than one element, we divide up the list and recursively merge sort both halves. Once the two halves are sorted the a merge is performed that combines the 2 arrays together again into a single sorted list.(22)\n",
    "\n",
    "In order to analyze the mergeSort function, we need to consider the two distinct steps that make the algorithm. First, the list is split into halves. A list can be divided in half logn times where n is the length of the list. The second process is the merge. Each item in the list will eventually be processed and placed on the new sorted list. So the merge operation that produces a new list requires n operations. The result of this analysis is that logn splits, each of which costs n for a total of nlogn operations.\n",
    "\n",
    "It is important to be aware that the mergeSort function requires extra space to hold the two unsorted arrays that have been created in the first step of the algorithm. This additional space can be a critical factor if the array is large and can make this soring algorithm unsuitable when dealing with large data sets.\n",
    "\n",
    "\n",
    "\n",
    "![mergesort.png](Img/mergesort.png)"
   ]
  },
  {
   "cell_type": "markdown",
   "metadata": {},
   "source": [
    "### Quicksort\n",
    "\n",
    "The quick sort uses divide and conquer to gain the same advantages as the merge sort, while not using additional storage which is very advantageous. \n",
    "A quick sort first selects a value, which is called the pivot value. The role of the pivot value is to assist with the division of the given array. The actual position where the pivot value belongs in the final sorted list, commonly called the split point, will be used to split the list for subsequent calls to the quick sort.\n",
    "\n",
    "The partition process will happen next. It will find the split point and at the same time move the other elements to the correct part of the list, either less than or greater than the pivot value.(24) The goal of the partition process is to transfer elements that are on the incorrect side in relation to the pivot value while also assembling on the split point. \n",
    "\n",
    "To analyze the quickSort function, note that for a list of length n, if the partition occurs in the middle of the given array, there will again be logn divisions. In order to find the split point, each of the n items needs to be checked against the pivot value. The result is nlogn. In addition, there is no need for additional memory as in the merge sort process.\n",
    "\n",
    "Unfortunately, in the worst case, the split points may not be in the middle and can be very skewed to the lowest or the highest element, leaving a very uneven division.  The result is a worst case scenario of O(n2) with all of the extra recursion that is required to balance out the skewed pivot point.\n",
    "\n",
    "To prevent this reduction in performance a technique called median of three can be used in the initial stages. To choose the pivot value, we will find the lowest, the middle, and the highest element in the list. The median of three will choose a better “middle” value for the pivot point to keep the algorithm running at nlogn.\n",
    "\n",
    "When implemented effectively, Quicksort can be about two or three times faster than its main competitors, merge sort and heapsort. In efficient implementations it is not an unstable sort, meaning that the relative order of the sorted items is not maintained. Quicksort can operate in-place on an array, requiring small additional amounts of memory to perform the sorting in contrast to merge sort which requires a lot of extra space.(26) \n",
    "\n",
    "\n",
    "![partition.png](Img/partition.png)"
   ]
  },
  {
   "cell_type": "markdown",
   "metadata": {},
   "source": [
    "### Timsort\n",
    "\n",
    "Tim Peters created Timsort for the Python programming language in 2001. Timsort is a hybrid stable sorting algorithm. Timsort first analyses the list it is trying to sort and then chooses an approach based on the analysis of the list(27). Timsort’s time complexity is the same as Mergesort and actually makes use of both Insertion sort and Mergesort.\n",
    "Peters designed Timsort to use already-ordered elements that exist in most real-world data sets. It calls these already-ordered elements “natural runs”. It searches through the data collecting the elements into runs and simultaneously merging those runs together into one.(28) Finding these natural runs decreases the number of comparisons needed to fully sort the given list. \n",
    " \n",
    "\n",
    "Timsort iterates over the data looking for natural runs of at least two elements that are either ascending or descending in value. Since descending runs are later blindly reversed, excluding equal elements maintains the algorithm's stability so equal elements won't be reversed. A reference to each run is then pushed onto a stack for storage. In the worst case, Timsort takes O(nlogn) comparisons to sort an array of n elements. In the best case, which occurs when the input is already sorted, it runs in linear time, meaning that it is an adaptive sorting algorithm.\n",
    " \n",
    "Timsort is an adaptive sort in many ways as it uses insertion sort to combine runs smaller than the minimum run size (minrun), and merge sort otherwise. Minrun is selected so most runs in a random array are minrun in length. Concurrently with the search for runs, the existing runs are merged with mergesort. Stability requires that non-consecutive runs are not merged, as elements could be transferred across equal elements in the intervening run, risking stability. It would also be impossible to recover the original order of the equal elements at a later point if needed. \n",
    "\n",
    "Timsort performs an almost in-place merge sort, as an actual in-place merge sort implementation has a high overhead requiring a lot of space. First Timsort performs a binary search to find the location in the first run of the first element in the second run, and the location in the second run of the last element in the first run. Elements before and after these locations are already in their correct place, and may be removed from further consideration. This not only optimises element movements and running time, but also allows the use of less temporary memory. Then the smaller of the remaining runs is copied into temporary memory, and elements are merged with the larger run, into the now free space. If the first run is smaller, the merge starts at the beginning; if the second is smaller, the merge starts at the end. Timsort is a has great algorithm to perform on arrays with preexisting internal structure and is able to maintain a stable sort.\n",
    "\n",
    "![timsort](Img\\timsort.png)"
   ]
  },
  {
   "cell_type": "markdown",
   "metadata": {},
   "source": [
    "## Implementaion and Benchmarking\n",
    "\n",
    "To benchmark each algorithm I used arrays of 100 and 1000 elements to compare how each algorithm handlded the data. Bucket sort and Merge sort preformed well with the small array of elemets with very little difference between the two arrays. As Bucket sort has a time complexity of O(n2) it would be expected that its result would start to slow down as the size of the array given increased. \n",
    "\n",
    "Selection Sort was the slowest of the algorithms tested and performed even worse when the array size increased. Timsort was the most consistent of the algorithms tested with a minor increase in time given the increase in the array size. It dealt with the increased number of elements much better than Quicksort. Quicksort suffered a comparatively big drop off in performance with the increased size of array. \n",
    "\n",
    "Bucket Sort and Merge Sort are identical on the graph with selection sort being the most noticeable outlier for the data. Timsort as expected showed a gradual increase in time with the increase in the array."
   ]
  },
  {
   "cell_type": "code",
   "execution_count": 1,
   "metadata": {},
   "outputs": [
    {
     "data": {
      "text/html": [
       "<div>\n",
       "<style scoped>\n",
       "    .dataframe tbody tr th:only-of-type {\n",
       "        vertical-align: middle;\n",
       "    }\n",
       "\n",
       "    .dataframe tbody tr th {\n",
       "        vertical-align: top;\n",
       "    }\n",
       "\n",
       "    .dataframe thead th {\n",
       "        text-align: right;\n",
       "    }\n",
       "</style>\n",
       "<table border=\"1\" class=\"dataframe\">\n",
       "  <thead>\n",
       "    <tr style=\"text-align: right;\">\n",
       "      <th></th>\n",
       "      <th>Time in milliseconds to sort an array of 100 numbers</th>\n",
       "      <th>1000 Numbers</th>\n",
       "    </tr>\n",
       "  </thead>\n",
       "  <tbody>\n",
       "    <tr>\n",
       "      <th>Bucket Sort</th>\n",
       "      <td>0.0012</td>\n",
       "      <td>0.0011</td>\n",
       "    </tr>\n",
       "    <tr>\n",
       "      <th>Selection Sort</th>\n",
       "      <td>0.0235</td>\n",
       "      <td>0.3531</td>\n",
       "    </tr>\n",
       "    <tr>\n",
       "      <th>Merge Sort</th>\n",
       "      <td>0.0010</td>\n",
       "      <td>0.0009</td>\n",
       "    </tr>\n",
       "    <tr>\n",
       "      <th>QuickSort</th>\n",
       "      <td>0.0023</td>\n",
       "      <td>0.0698</td>\n",
       "    </tr>\n",
       "    <tr>\n",
       "      <th>Timsort</th>\n",
       "      <td>0.0027</td>\n",
       "      <td>0.0182</td>\n",
       "    </tr>\n",
       "  </tbody>\n",
       "</table>\n",
       "</div>"
      ],
      "text/plain": [
       "                Time in milliseconds to sort an array of 100 numbers  \\\n",
       "Bucket Sort                                                0.0012      \n",
       "Selection Sort                                             0.0235      \n",
       "Merge Sort                                                 0.0010      \n",
       "QuickSort                                                  0.0023      \n",
       "Timsort                                                    0.0027      \n",
       "\n",
       "                1000 Numbers  \n",
       "Bucket Sort           0.0011  \n",
       "Selection Sort        0.3531  \n",
       "Merge Sort            0.0009  \n",
       "QuickSort             0.0698  \n",
       "Timsort               0.0182  "
      ]
     },
     "execution_count": 1,
     "metadata": {},
     "output_type": "execute_result"
    }
   ],
   "source": [
    "import numpy as np\n",
    "import pandas as pd \n",
    "\n",
    "d = {'Time in milliseconds to sort an array of 100 numbers': pd.Series([0.0012,0.0235,0.0010,0.0023,0.0027],index=['Bucket Sort','Selection Sort', 'Merge Sort', 'QuickSort', 'Timsort']),\n",
    "    '1000 Numbers': pd.Series([ 0.0011,0.3531, 0.0009,0.0698,0.0182],index=['Bucket Sort','Selection Sort', 'Merge Sort', 'QuickSort', 'Timsort'])}\n",
    "df = pd.DataFrame(d)\n",
    "\n",
    "df"
   ]
  },
  {
   "cell_type": "code",
   "execution_count": 20,
   "metadata": {},
   "outputs": [
    {
     "data": {
      "image/png": "[encoded data removed]",
      "text/plain": [
       "<Figure size 432x288 with 1 Axes>"
      ]
     },
     "metadata": {},
     "output_type": "display_data"
    }
   ],
   "source": [
    "import matplotlib.pyplot as plt\n",
    "\n",
    "#https://matplotlib.org/users/pyplot_tutorial.html\n",
    "\n",
    "plt.plot([100,1000],[0.0011, 0.0012],marker='o',label='Bucket Sort')\n",
    "plt.plot([100,1000],[0.0235,0.3531],marker='o',label='Selection Sort')\n",
    "plt.plot([100,1000],[0.0010,0.0009],marker='o',label='Merge Sort')\n",
    "plt.plot([100,1000],[0.0023,0.00698],marker='o',label='Quicksort')\n",
    "plt.plot([100,1000],[0.0027,0.0182],marker='o',label='Timsort')\n",
    "plt.xlabel('input size n')\n",
    "plt.ylabel('Running Time \"Milliseconds\"')\n",
    "plt.title('Benchmarking')\n",
    "plt.grid(True)\n",
    "plt.legend()\n",
    "plt.show()\n",
    "plt.axis([0, 1100, 0, 0.1])\n",
    "\n",
    "%matplotlib inline"
   ]
  },
  {
   "cell_type": "markdown",
   "metadata": {},
   "source": [
    "# References\n",
    "\n",
    "1. https://brilliant.org/wiki/sorting-algorithms/  Visited on the 17/4/19 \n",
    "2. https://en.wikipedia.org/wiki/Sorting_algorithm Visited on the 17/4/19\n",
    "3. https://betterexplained.com/articles/sorting-algorithms/ Visited on the 18/4/19\n",
    "4. https://stackoverflow.com/questions/2307283/what-does-olog-n-mean-exactly Visited on the 18/4/19\n",
    "5. https://en.wikipedia.org/wiki/Integer_sorting Visited on the 18/4/19\n",
    "6. https://en.wikipedia.org/wiki/Time_complexity Visited on the 18/4/19\n",
    "7. http://www.leda-tutorial.org/en/official/ch02s02s03.html Visited on the 18/4/19 \n",
    "8. https://brilliant.org/wiki/space-complexity/ Visited on the 18/4/19\n",
    "9. https://stackoverflow.com/questions/16585507/sorting-in-place \n",
    "10. https://stackoverflow.com/questions/1517793/what-is-stability-in-sorting-algorithms-and-why-is-it-importan\n",
    "11. https://brilliant.org/wiki/sorting-algorithms/\n",
    "12. https://en.wikipedia.org/wiki/Timsort\n",
    "13. https://www.datacamp.com/community/tutorials/analyzing-complexity-code-python\n",
    "14. https://www.hackerearth.com/practice/algorithms/sorting/bucket-sort/tutorial/\n",
    "15. https://en.wikipedia.org/wiki/Bucket_sort\n",
    "16. https://www.includehelp.com/algorithms/bucket-sort-algorithm.aspx \n",
    "17. http://interactivepython.org/runestone/static/pythonds/SortSearch/TheSelectionSort.html \n",
    "18. https://www.geeksforgeeks.org/python-program-for-selection-sort/ \n",
    "19. https://www.thecrazyprogrammer.com/2017/11/python-selection-sort.html\n",
    "20. https://djangocentral.com/selection-sort-in-python/\n",
    "21. https://www.cs.cmu.edu/~adamchik/15-121/lectures/Sorting%20Algorithms/sorting.html\n",
    "22. http://interactivepython.org/courselib/static/pythonds/SortSearch/TheMergeSort.html\n",
    "23. https://www.geeksforgeeks.org/merge-sort/\n",
    "24. http://interactivepython.org/courselib/static/pythonds/SortSearch/TheQuickSort.html\n",
    "25. https://www.geeksforgeeks.org/python-program-for-quicksort/\n",
    "26. https://en.wikipedia.org/wiki/Quicksort\n",
    "27. https://hackernoon.com/timsort-the-fastest-sorting-algorithm-youve-never-heard-of-36b28417f399 \n",
    "28. https://en.wikipedia.org/wiki/Timsort"
   ]
  },
  {
   "cell_type": "code",
   "execution_count": null,
   "metadata": {},
   "outputs": [],
   "source": []
  }
 ],
 "metadata": {
  "kernelspec": {
   "display_name": "Python 3",
   "language": "python",
   "name": "python3"
  },
  "language_info": {
   "codemirror_mode": {
    "name": "ipython",
    "version": 3
   },
   "file_extension": ".py",
   "mimetype": "text/x-python",
   "name": "python",
   "nbconvert_exporter": "python",
   "pygments_lexer": "ipython3",
   "version": "3.6.5"
  }
 },
 "nbformat": 4,
 "nbformat_minor": 2
}
