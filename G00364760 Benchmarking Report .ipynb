{
 "cells": [
  {
   "cell_type": "markdown",
   "metadata": {},
   "source": [
    "# Introduction\n",
    "\n",
    "In computer science a sorting algorithm is an algorithm that consists of a set of instructions that takes an array as input, manipulates it using specified operations, and outputs a sorted array generally in numerical order (1). The algorithm takes the input array and outputs a permutation of the array that has been sorted. Sorting algorithms are very important for other computational algorithms to work efficiently like merge and search algorithms(2). \n",
    "\n",
    "The first sorting algorithm that was created was bubble sort in 1956 with Betty Holbertong being the pioneer of sorting algorithms in 1951. It was recognized by the early computer scientists that stable and reusable sorting algorithms would play an important role in the future of computer science(2). \n",
    "\n",
    "Sorting algorithms can be divided up into comparison sorts and integer sorts. Comparison sorts compare elements at each step of the algorithm to identify if one element should be to the left or right of another element(3).Comparison sorts are generally easier to implement than integer sorts, but comparison sorts are limited by a lower bound of O(nlogn). A comparison sort can be modeled as a large binary tree called a decision tree where each node represents a single comparison (3). At every subsequent level of the tree you divide problem into half and do constant amount of additional work. O(log N) is found when time goes up linearly while the input goes up exponentially(4). \n",
    "\n",
    "Integer sorts work differently and do not make comparisons, so they are not bounded by Ω(nlogn). Integer sorts determine for each element X how many elements are less than X and work through the array in that fashion (3). This information is used to place each element into the correct slot immediately—no need to rearrange lists.The ability to perform integer arithmetic on the keys allows integer sorting algorithms to be faster than comparison sorting algorithms(5).\n",
    "\n",
    "Sorting algorithms can be identified through their time complexity and space complexity. Time complexity is how fast the algorithm runs and is estimated by counting the number of elemenary operations performed by the algorithm, supposing that each individual operation takes a fixed amount of time to run(6). The time required by the algorithm falls under the three types: Worst case - Maximum time required by an algorithm to complete its instructions and it is most common way to analyze an algorithm. Best case - Minimum time required for the algorithm. Average case is the time required for an algorithm  and it is sometimes done while analyzing the algorithm (13). The running time of a sorting algorithm is measured in terms of big O, and not Omega and only rarely Theta. Big O notation is used to express the upper bound of an algorithm and which gives the measure for the worst time complexity for an algorithm take to complete it's job(13). For example, if an algorithm had a worst-case running time of O(nlogn), then it is understood that the algorithm will never be slower than O(nlogn), and if an algorithm has an average-case running time of O(n2)O(n2), then on average, it will not be slower than O(n2)O(n2) (7). The better the time complexity of an algorithm is, the faster the algorithm will carry out his work in practice. \n",
    "\n",
    "Space complexity is the number of memory cells which an algorithm needs to perform it's operation. A good algorithm keeps this number as small as possible. There is often a time-space-tradeoff involved in choosing the algorithm as in general problems cannot be solved with low computing time and low memory consumption (8). One then has to make a decision and to choose computing time for memory consumption or vice versa.  For example, insertion sort has a space complexity of O(1), because it doesn't need extra allocation of memory in order to sort the provided collection. In this case we say that the sorting operation is done in-place(8). In place sorting is modifying the given list by only changing the element order in the existing list. This saves on memory and is very space efficient.\n",
    "Merge sort is different, and it has a space complexity of O(n). Merge sort recursively divides the array in two  creating a new array at each step. The sorting operation requires the allocation of new space in memory. This obviously requires extra RAM and storage(9).\n",
    "\n",
    "Another important characteristic of a sorting algorithm is it's stability. Sorting stability means that records with the same key retain their relative order before and after the sort (10). Some sorting algorithms are stable by nature like Insertion sort, Merge Sort or Bubble Sort. And some sorting algorithms are not, like Heap Sort or Quick Sort. Stability is generally only important if the problem you are solving requires the rentenion of the array in the order provided. Depending on the importance of stability it is possible to choose very different sorting algorithms for the problem. If you don't need stability, you can use a fast, low space complexity algorithm like heapsort or quicksort. By contrast stable algorithms have higher big-O CPU and memory usage than unstable algorithms (11). This again goes back to the trade off between time and space complexity when choosing an appropriate sorting algorithm. \n",
    "\n",
    "The future of sorting algorithms appears to be creation hybrid algorithms like Timsort that was developed in 2002 and implemented on the Python programming language(12). Timsort is a combination of the well estabished merge sort and insertion sort. Computer scientists very early on realised the importance of these types of algorithms and it is considered that sorting algorithms are unlikely to become any more efficient than they already are. "
   ]
  },
  {
   "cell_type": "markdown",
   "metadata": {},
   "source": [
    "# Sorting Algorithms"
   ]
  },
  {
   "cell_type": "markdown",
   "metadata": {},
   "source": [
    "## Bucket Sort\n",
    "\n",
    "Bucket sort is a comparison sort algorithm that operates on elements by placing them into different buckets and then sorting each buckets individually. Each bucket is sorted using a separate sorting algorithm or by applying the bucket sort algorithm recursively. Bucket sort is particularly useful if the input is uniformly distributed over a range(14). The computational complexity depends on the algorithm used to sort each bucket, the number of buckets required, and whether the input is uniformly distributed. \n",
    "\n",
    "Bucket sort works as follows: \n",
    "1. Set up an array of initially empty \"buckets\".\n",
    "2. Scatter: Go over the original array, putting each object in its bucket.\n",
    "3. Sort each non-empty bucket.\n",
    "4. Gather: Visit the buckets in order and put all elements back into the original array(15). \n",
    "\n",
    "A drawback for the bucket sort, is that the maximum value of the array must be known (16).\n",
    "\n",
    "\n",
    "When the input contains several element that are clustered together, these elements are expected to be placed in the same bucket, which results in some buckets containing more elements than others. The worst-case scenario occurs when all the elements are placed in a single bucket(16). The overall performance would then be dominated by the algorithm used to sort each bucket, which is typically O(n2). Bucket sort has a space complexity on 0(n . k). (14)\n",
    "\n",
    "The most common type of bucket sort works on a list of n numeric elements between zero and the maximum value M and divides the value range into n buckets each of size M/n. If each bucket is sorted using insertion sort, the sort can be shown to run in expected linear time. The performance of this sort worsens with clustering; if many values occur close together, they will all fall into a single bucket and be sorted slower. \n",
    "\n",
    "![Bucket_sort_1](Img/Bucket_sort_1.svg.png)"
   ]
  },
  {
   "cell_type": "markdown",
   "metadata": {},
   "source": [
    "### Selection Sort \n",
    "\n",
    "The selection sort algorithm is more economical compared with bubble sort as it only makes one exchange for every pass through the list. Bubble sort selects the maximum remaining elements at each stage, but wastes some effort imparting some order to an unsorted part of the array. \n",
    "\n",
    "Selection sort locates the largest value as it makes a pass and, after completing the pass, places it in the proper location. As with a bubble sort, after the first pass, the largest item is in the correct place. After the second pass, the next largest is in place. Selection sort is quadratic in both the worst and the average case, and requires no extra memory. Selection sort has a space complexity of O(1).(20). However, due to the reduced number of exchanges, selection sort typically executes faster in benchmark studies(17). Selection is only useful on smaller arrays and is inadequate when dealing with larger arrays. (19)\n",
    "\n",
    "The selection sort algorithm sorts an array by repeatedly finding the minimum element from an unsorted array and places it at the beginning. The algorithm maintains two subarrays in a given array.\n",
    "1) The subarray which is already sorted.\n",
    "2) Remaining subarray which is unsorted.\n",
    "(18). \n",
    "\n",
    "\n",
    "\n",
    "![selectionsort.png](Img/selectionsort.png)"
   ]
  },
  {
   "cell_type": "markdown",
   "metadata": {},
   "source": [
    "### MergeSort \n",
    "\n",
    "Merge-sort is based on the divide-and-conquer paradigm. It involves the following three steps: \n",
    "1. Divide the array into two or more subarrays \n",
    "2. Sort each subarray \n",
    "3. Merge them into one (21)\n",
    "\n",
    "Merge sort is a recursive algorithm that continually splits an array in half. If the given array has more than one element, we divide up the list and recursively merge sort both halves. Once the two halves are sorted the a merge is performed that combines the 2 arrays together again into a single sorted list.(22)\n",
    "\n",
    "In order to analyze the mergeSort function, we need to consider the two distinct steps that make the algorithm. First, the list is split into halves. A list can be divided in half logn times where n is the length of the list. The second process is the merge. Each item in the list will eventually be processed and placed on the new sorted list. So the merge operation that produces a new list requires n operations. The result of this analysis is that logn splits, each of which costs n for a total of nlogn operations.\n",
    "\n",
    "It is important to be aware that the mergeSort function requires extra space to hold the two unsorted arrays that have been created in the first step of the algorithm. This additional space can be a critical factor if the array is large and can make this soring algorithm unsuitable when dealing with large data sets.\n",
    "\n",
    "\n",
    "\n",
    "![mergesort.png](Img/mergesort.png)"
   ]
  },
  {
   "cell_type": "markdown",
   "metadata": {},
   "source": [
    "### Quicksort\n",
    "\n",
    "The quick sort uses divide and conquer to gain the same advantages as the merge sort, while not using additional storage which is very advantageous. \n",
    "A quick sort first selects a value, which is called the pivot value. The role of the pivot value is to assist with the division of the given array. The actual position where the pivot value belongs in the final sorted list, commonly called the split point, will be used to split the list for subsequent calls to the quick sort.\n",
    "\n",
    "The partition process will happen next. It will find the split point and at the same time move the other elements to the correct part of the list, either less than or greater than the pivot value.(24) The goal of the partition process is to transfer elements that are on the incorrect side in relation to the pivot value while also assembling on the split point. \n",
    "\n",
    "To analyze the quickSort function, note that for a list of length n, if the partition occurs in the middle of the given array, there will again be logn divisions. In order to find the split point, each of the n items needs to be checked against the pivot value. The result is nlogn. In addition, there is no need for additional memory as in the merge sort process.\n",
    "\n",
    "Unfortunately, in the worst case, the split points may not be in the middle and can be very skewed to the lowest or the highest element, leaving a very uneven division.  The result is a worst case scenario of O(n2) with all of the extra recursion that is required to balance out the skewed pivot point.\n",
    "\n",
    "To prevent this reduction in performance a technique called median of three can be used in the initial stages. To choose the pivot value, we will find the lowest, the middle, and the highest element in the list. The median of three will choose a better “middle” value for the pivot point to keep the algorithm running at nlogn.\n",
    "\n",
    "When implemented effectively, Quicksort can be about two or three times faster than its main competitors, merge sort and heapsort. In efficient implementations it is not an unstable sort, meaning that the relative order of the sorted items is not maintained. Quicksort can operate in-place on an array, requiring small additional amounts of memory to perform the sorting in contrast to merge sort which requires a lot of extra space.(26) \n",
    "\n",
    "\n",
    "![partition.png](Img/partition.png)"
   ]
  },
  {
   "cell_type": "markdown",
   "metadata": {},
   "source": [
    "### Timsort\n",
    "\n",
    " Tim Peters created Timsort for the Python programming language in 2001. Timsort first analyses the list it is trying to sort and then chooses an approach based on the analysis of the list.\n",
    "Since the algorithm has been invented it has been used as the default sorting algorithm in Python, Java, the Android Platform, and in GNU Octave(27). Timsort’s sorting time is the same as Mergesort, which is faster than most of the other sorts you might know. Timsort actually makes use of Insertion sort and Mergesort, as you’ll see soon.\n",
    "Peters designed Timsort to use already-ordered elements that exist in most real-world data sets. It calls these already-ordered elements “natural runs”. It iterates over the data collecting the elements into runs and simultaneously merging those runs together into one.\n",
    "\n",
    "imsort is a hybrid stable sorting algorithm, derived from merge sort and insertion sort, designed to perform well on many kinds of real-world data. The algorithm finds subsequences of the data that are already ordered, and uses that knowledge to sort the remainder more efficiently. This is done by merging an identified subsequence, called a run, with existing runs until certain criteria are fulfilled.(28)\n",
    "\n",
    "Timsort was designed to take advantage of runs of consecutive ordered elements that already exist in most real-world data, natural runs. It iterates over the data collecting elements into runs, and simultaneously merging those runs together. When there are runs, doing this decreases the total number of comparisons needed to fully sort the list. \n",
    "Runs[edit]\n",
    "Timsort iterates over the data looking for natural runs of at least two elements that are either non-descending (each element is greater than or equal to its predecessor) or strictly descending (each element is less than its predecessor). Since descending runs are later blindly reversed, excluding equal elements maintains the algorithm's stability; i.e., equal elements won't be reversed. Note that any two elements are guaranteed to be either descending or non-descending. \n",
    "A reference to each run is then pushed onto a stack.\n",
    "In the worst case, Timsort takes \n",
    "O ( n log ⁡ n ) {\\displaystyle O(n\\log n)} \n",
    " comparisons to sort an array of n elements. In the best case, which occurs when the input is already sorted, it runs in linear time, meaning that it is an adaptive sorting algorithm.[3] \n",
    " \n",
    " Timsort is an adaptive sort,[8] using insertion sort to combine runs smaller than the minimum run size (minrun), and merge sort otherwise. \n",
    "Minrun is selected so most runs in a random array are, or become, minrun in length. It also results in a reasonable number of function calls in the implementation of the sort.\n",
    "\n",
    "Concurrently with the search for runs, the runs are merged with mergesort. Except where Timsort tries to optimise for merging disjoint runs in galloping mode, runs are repeatedly merged two at a time, with the only concerns being to maintain stability and merge balance. \n",
    "Stability requires non-consecutive runs are not merged, as elements could be transferred across equal elements in the intervening run, violating stability. Further, it would be impossible to recover the order of the equal elements at a later point. \n",
    "\n",
    "Timsort performs an almost in-place merge sort, as actual in-place merge sort implementations have a high overhead. First Timsort performs a binary search to find the location in the first run of the first element in the second run, and the location in the second run of the last element in the first run. Elements before and after these locations are already in their correct place, and may be removed from further consideration. This not only optimises element movements and running time, but also allows the use of less temporary memory. Then the smaller of the remaining runs is copied into temporary memory, and elements are merged with the larger run, into the now free space. If the first run is smaller, the merge starts at the beginning; if the second is smaller, the merge starts at the end. \n",
    "Say, for example, two runs A and B are to be merged, with A being the smaller run. In this case a binary search examines A to find the first element aʹ larger than the first element of B. Note that A and B are already sorted individually. When aʹ is found, the algorithm can ignore elements before that position when merging. Similarly, the algorithm also looks for the first element bʹ in B greater than the last element of A. The elements after bʹ can also be ignored when merging. This preliminary searching is not efficient for highly random data, but is efficient in other situations and is hence included. \n",
    "\n",
    "In galloping mode, the algorithm searches for the first element of one array in the other. This is done by comparing that initial element with the (2k − 1)th element of the other array (first, third, seventh, and so on) so as to get a range of elements between which the initial element will lie. This shortens the range for binary searching, thus increasing efficiency. In cases where galloping is found to be less efficient than binary search, galloping mode is exited. \n",
    "\n",
    "When merging is done right-to-left, galloping starts from the right end of the data, that is, the last element. Galloping from the beginning also gives the required results, but makes more comparisons. Thus, the galloping algorithm uses a variable that gives the index at which galloping should begin. Timsort can enter galloping mode at any index and continue checking at the next index which is offset by 1, 3, 7, …, (2k − 1)… and so on from the current index. In the case of right-to-left merging, the offsets to the index will be −1, −3, −7, …[8] \n",
    "Galloping is not always efficient. In some cases galloping mode requires more comparisons than a simple linear search. While for the first few cases both modes may require the same number of comparisons, over time galloping mode requires 33% more comparisons than linear search to arrive at the same results. \n",
    "\n",
    "In short, Timsort does 2 things incredibly well:\n",
    "Great performance on arrays with preexisting internal structure\n",
    "Being able to maintain a stable sort"
   ]
  },
  {
   "cell_type": "markdown",
   "metadata": {},
   "source": [
    "## Implementaion and Benchmarking\n",
    "\n",
    "making bucket sort less optimal than Onlog(n) comparison sort algorithms like Quicksort. (16) Negatives For the bucket sort, it’s the necessary part that the maximum value of the element must be known (16)."
   ]
  },
  {
   "cell_type": "markdown",
   "metadata": {},
   "source": [
    "# References\n",
    "\n",
    "1. https://brilliant.org/wiki/sorting-algorithms/  Visited on the 17/4/19 \n",
    "2. https://en.wikipedia.org/wiki/Sorting_algorithm Visited on the 17/4/19\n",
    "3. https://betterexplained.com/articles/sorting-algorithms/ Visited on the 18/4/19\n",
    "4. https://stackoverflow.com/questions/2307283/what-does-olog-n-mean-exactly Visited on the 18/4/19\n",
    "5. https://en.wikipedia.org/wiki/Integer_sorting Visited on the 18/4/19\n",
    "6. https://en.wikipedia.org/wiki/Time_complexity Visited on the 18/4/19\n",
    "7. http://www.leda-tutorial.org/en/official/ch02s02s03.html Visited on the 18/4/19 \n",
    "8. https://brilliant.org/wiki/space-complexity/ Visited on the 18/4/19\n",
    "9. https://stackoverflow.com/questions/16585507/sorting-in-place \n",
    "10. https://stackoverflow.com/questions/1517793/what-is-stability-in-sorting-algorithms-and-why-is-it-importan\n",
    "11. https://brilliant.org/wiki/sorting-algorithms/\n",
    "12. https://en.wikipedia.org/wiki/Timsort\n",
    "13. https://www.datacamp.com/community/tutorials/analyzing-complexity-code-python\n",
    "14. https://www.hackerearth.com/practice/algorithms/sorting/bucket-sort/tutorial/\n",
    "15. https://en.wikipedia.org/wiki/Bucket_sort\n",
    "16. https://www.includehelp.com/algorithms/bucket-sort-algorithm.aspx \n",
    "17. http://interactivepython.org/runestone/static/pythonds/SortSearch/TheSelectionSort.html \n",
    "18. https://www.geeksforgeeks.org/python-program-for-selection-sort/ \n",
    "19. https://www.thecrazyprogrammer.com/2017/11/python-selection-sort.html\n",
    "20. https://djangocentral.com/selection-sort-in-python/\n",
    "21. https://www.cs.cmu.edu/~adamchik/15-121/lectures/Sorting%20Algorithms/sorting.html\n",
    "22. http://interactivepython.org/courselib/static/pythonds/SortSearch/TheMergeSort.html\n",
    "23. https://www.geeksforgeeks.org/merge-sort/\n",
    "24. http://interactivepython.org/courselib/static/pythonds/SortSearch/TheQuickSort.html\n",
    "25. https://www.geeksforgeeks.org/python-program-for-quicksort/\n",
    "26. https://en.wikipedia.org/wiki/Quicksort\n",
    "27. https://hackernoon.com/timsort-the-fastest-sorting-algorithm-youve-never-heard-of-36b28417f399 \n",
    "28. https://en.wikipedia.org/wiki/Timsort"
   ]
  },
  {
   "cell_type": "code",
   "execution_count": null,
   "metadata": {},
   "outputs": [],
   "source": []
  }
 ],
 "metadata": {
  "kernelspec": {
   "display_name": "Python 3",
   "language": "python",
   "name": "python3"
  },
  "language_info": {
   "codemirror_mode": {
    "name": "ipython",
    "version": 3
   },
   "file_extension": ".py",
   "mimetype": "text/x-python",
   "name": "python",
   "nbconvert_exporter": "python",
   "pygments_lexer": "ipython3",
   "version": "3.6.5"
  }
 },
 "nbformat": 4,
 "nbformat_minor": 2
}
