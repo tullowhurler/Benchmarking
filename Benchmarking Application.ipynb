{
 "cells": [
  {
   "cell_type": "markdown",
   "metadata": {},
   "source": [
    "# Python Application to Benchmark Algorithms"
   ]
  },
  {
   "cell_type": "markdown",
   "metadata": {},
   "source": [
    "## Bucket Sort"
   ]
  },
  {
   "cell_type": "code",
   "execution_count": 31,
   "metadata": {},
   "outputs": [
    {
     "name": "stdout",
     "output_type": "stream",
     "text": [
      "Sorted Array is\n"
     ]
    },
    {
     "ename": "TypeError",
     "evalue": "'tuple' object does not support item assignment",
     "output_type": "error",
     "traceback": [
      "\u001b[1;31m---------------------------------------------------------------------------\u001b[0m",
      "\u001b[1;31mTypeError\u001b[0m                                 Traceback (most recent call last)",
      "\u001b[1;32m<ipython-input-31-6389ce38eb77>\u001b[0m in \u001b[0;36m<module>\u001b[1;34m()\u001b[0m\n\u001b[0;32m     47\u001b[0m     \u001b[1;32mreturn\u001b[0m \u001b[0marray\u001b[0m\u001b[1;33m\u001b[0m\u001b[0m\n\u001b[0;32m     48\u001b[0m \u001b[0mprint\u001b[0m\u001b[1;33m(\u001b[0m\u001b[1;34m\"Sorted Array is\"\u001b[0m\u001b[1;33m)\u001b[0m\u001b[1;33m\u001b[0m\u001b[0m\n\u001b[1;32m---> 49\u001b[1;33m \u001b[0mprint\u001b[0m\u001b[1;33m(\u001b[0m\u001b[0mbucketSort\u001b[0m\u001b[1;33m(\u001b[0m\u001b[0mx\u001b[0m\u001b[1;33m)\u001b[0m\u001b[1;33m)\u001b[0m\u001b[1;33m\u001b[0m\u001b[0m\n\u001b[0m\u001b[0;32m     50\u001b[0m \u001b[1;33m\u001b[0m\u001b[0m\n\u001b[0;32m     51\u001b[0m \u001b[1;31m# This code is contributed by\u001b[0m\u001b[1;33m\u001b[0m\u001b[1;33m\u001b[0m\u001b[0m\n",
      "\u001b[1;32m<ipython-input-31-6389ce38eb77>\u001b[0m in \u001b[0;36mbucketSort\u001b[1;34m(x)\u001b[0m\n\u001b[0;32m     36\u001b[0m     \u001b[1;32mfor\u001b[0m \u001b[0mi\u001b[0m \u001b[1;32min\u001b[0m \u001b[0mrange\u001b[0m\u001b[1;33m(\u001b[0m\u001b[0mslot_num\u001b[0m\u001b[1;33m)\u001b[0m\u001b[1;33m:\u001b[0m\u001b[1;33m\u001b[0m\u001b[0m\n\u001b[0;32m     37\u001b[0m         \u001b[1;32mfor\u001b[0m \u001b[0mj\u001b[0m \u001b[1;32min\u001b[0m \u001b[0mrange\u001b[0m\u001b[1;33m(\u001b[0m\u001b[0mlen\u001b[0m\u001b[1;33m(\u001b[0m\u001b[0marr\u001b[0m\u001b[1;33m[\u001b[0m\u001b[0mi\u001b[0m\u001b[1;33m]\u001b[0m\u001b[1;33m)\u001b[0m\u001b[1;33m)\u001b[0m\u001b[1;33m:\u001b[0m\u001b[1;33m\u001b[0m\u001b[0m\n\u001b[1;32m---> 38\u001b[1;33m             \u001b[0mx\u001b[0m\u001b[1;33m[\u001b[0m\u001b[0mk\u001b[0m\u001b[1;33m]\u001b[0m \u001b[1;33m=\u001b[0m \u001b[0marr\u001b[0m\u001b[1;33m[\u001b[0m\u001b[0mi\u001b[0m\u001b[1;33m]\u001b[0m\u001b[1;33m[\u001b[0m\u001b[0mj\u001b[0m\u001b[1;33m]\u001b[0m\u001b[1;33m\u001b[0m\u001b[0m\n\u001b[0m\u001b[0;32m     39\u001b[0m             \u001b[0mk\u001b[0m \u001b[1;33m+=\u001b[0m \u001b[1;36m1\u001b[0m\u001b[1;33m\u001b[0m\u001b[0m\n\u001b[0;32m     40\u001b[0m     \u001b[1;32mreturn\u001b[0m \u001b[0mx\u001b[0m\u001b[1;33m\u001b[0m\u001b[0m\n",
      "\u001b[1;31mTypeError\u001b[0m: 'tuple' object does not support item assignment"
     ]
    }
   ],
   "source": [
    "# Python3 program to sort an array  \n",
    "# using bucket sort \n",
    "import time;\n",
    "start_time = time.time()\n",
    "import random\n",
    "\n",
    "\n",
    "def insertionSort(b): \n",
    "    for i in range(1, len(b)): \n",
    "        up = b[i] \n",
    "        j = i - 1\n",
    "        while j >=0 and b[j] > up:  \n",
    "            b[j + 1] = b[j] \n",
    "            j -= 1\n",
    "        b[j + 1] = up     \n",
    "    return b      \n",
    "              \n",
    "def bucketSort(x): \n",
    "    arr = [] \n",
    "    slot_num = 10 # 10 means 10 slots, each \n",
    "                  # slot's size is 0.1 \n",
    "    for i in range(slot_num): \n",
    "        arr.append([]) \n",
    "          \n",
    "    # Put array elements in different buckets  \n",
    "    for j in x: \n",
    "        index_b = int(slot_num * j)  \n",
    "        arr[index_b].append(j) \n",
    "      \n",
    "    # Sort individual buckets  \n",
    "    for i in range(slot_num): \n",
    "        arr[i] = insertionSort(arr[i]) \n",
    "          \n",
    "    # concatenate the result \n",
    "    k = 0\n",
    "    for i in range(slot_num): \n",
    "        for j in range(len(arr[i])): \n",
    "            x[k] = arr[i][j] \n",
    "            k += 1\n",
    "    return x \n",
    "  \n",
    "# Driver Code \n",
    "def random_array(x):\n",
    "    array = []\n",
    "    for i in range(0,x,1):\n",
    "        array.append(randint(0,1000))\n",
    "    return array  \n",
    "print(\"Sorted Array is\") \n",
    "print(bucketSort(x)) \n",
    "  \n",
    "# This code is contributed by \n",
    "# Oneil Hsiao \n",
    "\n",
    "end_time = time.time()\n",
    "time_elapsed = end_time - start_time \n",
    "print(\"Benchmark time equals\", time_elapsed)\n"
   ]
  },
  {
   "cell_type": "markdown",
   "metadata": {},
   "source": [
    "Array 100\n",
    "0.0009984970092773438\n",
    "0.0009992122650146484\n",
    "0.0019996166229248047\n",
    "0.0009999275207519531\n",
    "0.001998424530029297\n",
    "0.0009992122650146484\n",
    "0.0010006427764892578\n",
    "0.0009961128234863281\n",
    "0.0009996891021728516\n",
    "0.0019989013671875\n",
    "\n"
   ]
  },
  {
   "cell_type": "code",
   "execution_count": 25,
   "metadata": {},
   "outputs": [
    {
     "name": "stdout",
     "output_type": "stream",
     "text": [
      "The mean time in milliseconds is 0.0012990236282348633\n"
     ]
    }
   ],
   "source": [
    "import numpy as np\n",
    "import statistics \n",
    "\n",
    "x = (0.0009984970092773438,\n",
    "0.0009992122650146484,\n",
    "0.0019996166229248047,\n",
    "0.0009999275207519531,\n",
    "0.001998424530029297,\n",
    "0.0009992122650146484,\n",
    "0.0010006427764892578,\n",
    "0.0009961128234863281,\n",
    "0.0009996891021728516,\n",
    "0.0019989013671875)\n",
    "\n",
    "y = sum(x)/10\n",
    "\n",
    "print(\"The mean time in milliseconds is\",y)"
   ]
  },
  {
   "cell_type": "markdown",
   "metadata": {},
   "source": [
    "## Selection Sort"
   ]
  },
  {
   "cell_type": "code",
   "execution_count": 8,
   "metadata": {},
   "outputs": [
    {
     "name": "stdout",
     "output_type": "stream",
     "text": [
      "Benchmark time equals 0.003996372222900391\n"
     ]
    }
   ],
   "source": [
    "# Python program for implementation of Selection \n",
    "# Sort \n",
    "import time;\n",
    "start_time = time.time()\n",
    "import numpy as np\n",
    "import random\n",
    "\n",
    "import sys \n",
    "A = np.random.randint(0,10,100) \n",
    "\n",
    "# Traverse through all array elements \n",
    "for i in range(len(A)): \n",
    "\n",
    "    # Find the minimum element in remaining \n",
    "    # unsorted array \n",
    "    min_idx = i \n",
    "    for j in range(i+1, len(A)): \n",
    "        if A[min_idx] > A[j]: \n",
    "            min_idx = j \n",
    "\n",
    "    # Swap the found minimum element with \n",
    "    # the first element\t\t \n",
    "    A[i], A[min_idx] = A[min_idx], A[i] \n",
    "\n",
    "# Driver code to test above \n",
    "    \n",
    "end_time = time.time()\n",
    "time_elapsed = end_time - start_time \n",
    "print(\"Benchmark time equals\", time_elapsed)\n",
    "### https://www.geeksforgeeks.org/python-program-for-selection-sort/ "
   ]
  },
  {
   "cell_type": "code",
   "execution_count": 9,
   "metadata": {},
   "outputs": [
    {
     "name": "stdout",
     "output_type": "stream",
     "text": [
      "The mean time in milliseconds is 0.023584532737731933\n"
     ]
    }
   ],
   "source": [
    "import numpy as np\n",
    "import statistics \n",
    "\n",
    "x = (0.0029985904693603516,0.003996372222900391,0.003998279571533203,0.19287800788879395,0.0039975643157958984,\n",
    "     0.004997730255126953,0.0069921016693115234,0.007994651794433594,0.003995656967163086,0.003996372222900391)\n",
    "\n",
    "y = sum(x)/10\n",
    "\n",
    "print(\"The mean time in milliseconds is\",y)"
   ]
  },
  {
   "cell_type": "markdown",
   "metadata": {},
   "source": [
    "## MergeSort"
   ]
  },
  {
   "cell_type": "code",
   "execution_count": 29,
   "metadata": {},
   "outputs": [
    {
     "name": "stdout",
     "output_type": "stream",
     "text": [
      "Benchmark time equals 0.0009989738464355469\n"
     ]
    }
   ],
   "source": [
    "# Python program for implementation of MergeSort \n",
    "import time;\n",
    "start_time = time.time()\n",
    "import numpy as np\n",
    "import random\n",
    "\n",
    "def mergeSort(arr): \n",
    "    if len(arr) >1: \n",
    "        mid = len(arr)//2 #Finding the mid of the array \n",
    "        L = arr[:mid] # Dividing the array elements \n",
    "        R = arr[mid:] # into 2 halves \n",
    "\n",
    "        mergeSort(L) # Sorting the first half \n",
    "        mergeSort(R) # Sorting the second half \n",
    "\n",
    "        i = j = k = 0\n",
    "\n",
    "        # Copy data to temp arrays L[] and R[] \n",
    "        while i < len(L) and j < len(R): \n",
    "            if L[i] < R[j]: \n",
    "                arr[k] = L[i] \n",
    "                i+=1\n",
    "            else: \n",
    "                arr[k] = R[j] \n",
    "                j+=1\n",
    "            k+=1\n",
    "\n",
    "        # Checking if any element was left \n",
    "        while i < len(L): \n",
    "            arr[k] = L[i] \n",
    "            i+=1\n",
    "            k+=1\n",
    "\n",
    "        while j < len(R): \n",
    "            arr[k] = R[j] \n",
    "            j+=1\n",
    "            k+=1\n",
    "\n",
    "# Code to print the list \n",
    "def printList(arr): \n",
    "    for i in range(len(arr)):\n",
    "        print(arr[i],end=\" \") \n",
    "    print() \n",
    "\n",
    "# driver code to test the above code \n",
    "if __name__ == '__main__': \n",
    "    arr = np.random.randint(0,10,100)\n",
    "     \n",
    "\n",
    "end_time = time.time()\n",
    "time_elapsed = end_time - start_time \n",
    "print(\"Benchmark time equals\", time_elapsed)\n",
    "\n",
    "# This code is contributed by Mayank Khanna "
   ]
  },
  {
   "cell_type": "code",
   "execution_count": 30,
   "metadata": {},
   "outputs": [
    {
     "name": "stdout",
     "output_type": "stream",
     "text": [
      "The mean time in milliseconds is 0.0010991573333740234\n"
     ]
    }
   ],
   "source": [
    "import numpy as np\n",
    "import statistics \n",
    "\n",
    "x = (0.0010001659393310547,0.0009992122650146484,0.00099945068359375,0.0009984970092773438,0.0009984970092773438,\n",
    "    0.0010001659393310547,0.001998424530029297,0.0009984970092773438,0.0009996891021728516,0.0009989738464355469)\n",
    "\n",
    "y = sum(x)/10\n",
    "\n",
    "print(\"The mean time in milliseconds is\",y)"
   ]
  },
  {
   "cell_type": "markdown",
   "metadata": {},
   "source": [
    "## QuickSort"
   ]
  },
  {
   "cell_type": "code",
   "execution_count": 44,
   "metadata": {},
   "outputs": [
    {
     "name": "stdout",
     "output_type": "stream",
     "text": [
      "Benchmark time equals 0.0029973983764648438\n"
     ]
    }
   ],
   "source": [
    "# Python program for implementation of Quicksort Sort \n",
    "\n",
    "# This function takes last element as pivot, places \n",
    "# the pivot element at its correct position in sorted \n",
    "# array, and places all smaller (smaller than pivot) \n",
    "# to left of pivot and all greater elements to right \n",
    "# of pivot\n",
    "import time;\n",
    "start_time = time.time()\n",
    "import numpy as np\n",
    "import random\n",
    "\n",
    "def partition(arr,low,high): \n",
    "    i = ( low-1 )\t\t # index of smaller element \n",
    "    pivot = arr[high]\t # pivot \n",
    "\n",
    "    for j in range(low , high): \n",
    "\n",
    "        # If current element is smaller than or \n",
    "        # equal to pivot \n",
    "        if arr[j] <= pivot: \n",
    "\n",
    "            # increment index of smaller element \n",
    "            i = i+1\n",
    "            arr[i],arr[j] = arr[j],arr[i] \n",
    "\n",
    "    arr[i+1],arr[high] = arr[high],arr[i+1] \n",
    "    return ( i+1 ) \n",
    "\n",
    "# The main function that implements QuickSort \n",
    "# arr[] --> Array to be sorted, \n",
    "# low --> Starting index, \n",
    "# high --> Ending index \n",
    "\n",
    "# Function to do Quick sort \n",
    "def quickSort(arr,low,high): \n",
    "    if low < high: \n",
    "\n",
    "        # pi is partitioning index, arr[p] is now \n",
    "        # at right place \n",
    "        pi = partition(arr,low,high) \n",
    "\n",
    "        # Separately sort elements before \n",
    "        # partition and after partition \n",
    "        quickSort(arr, low, pi-1) \n",
    "        quickSort(arr, pi+1, high) \n",
    "\n",
    "# Driver code to test above \n",
    "arr = np.random.randint(0,10,100)\n",
    "n = len(arr) \n",
    "quickSort(arr,0,n-1) \n",
    "\n",
    "    \n",
    "end_time = time.time()\n",
    "time_elapsed = end_time - start_time \n",
    "print(\"Benchmark time equals\", time_elapsed)"
   ]
  },
  {
   "cell_type": "code",
   "execution_count": 45,
   "metadata": {},
   "outputs": [
    {
     "name": "stdout",
     "output_type": "stream",
     "text": [
      "The mean time in milliseconds is 0.0023978471755981444\n"
     ]
    }
   ],
   "source": [
    "import numpy as np\n",
    "import statistics \n",
    "\n",
    "x = (0.0029981136322021484,0.0019979476928710938,0.001998424530029297,0.001997709274291992,0.001998424530029297,\n",
    "    0.0019979476928710938,0.0029969215393066406,0.0029973983764648438,0.0019981861114501953,0.0029973983764648438)\n",
    "\n",
    "y = sum(x)/10\n",
    "\n",
    "print(\"The mean time in milliseconds is\",y)"
   ]
  },
  {
   "cell_type": "markdown",
   "metadata": {},
   "source": [
    "## TimSort"
   ]
  },
  {
   "cell_type": "code",
   "execution_count": 16,
   "metadata": {},
   "outputs": [
    {
     "name": "stdout",
     "output_type": "stream",
     "text": [
      "Benchmark time equals 0.002996683120727539\n"
     ]
    }
   ],
   "source": [
    "# Python3 program to perform TimSort. \n",
    "import time;\n",
    "start_time = time.time()\n",
    "import numpy as np\n",
    "import random\n",
    "\n",
    "RUN = 32\n",
    "\n",
    "# This function sorts array from left index to \n",
    "# to right index which is of size atmost RUN \n",
    "def insertionSort(arr, left, right): \n",
    "\n",
    "    for i in range(left + 1, right+1): \n",
    "\n",
    "        temp = arr[i] \n",
    "        j = i - 1\n",
    "        while arr[j] > temp and j >= left: \n",
    "\n",
    "            arr[j+1] = arr[j] \n",
    "            j -= 1\n",
    "            \n",
    "        arr[j+1] = temp \n",
    "\n",
    "# merge function merges the sorted runs \n",
    "def merge(arr, l, m, r): \n",
    "\n",
    "    # original array is broken in two parts \n",
    "    # left and right array \n",
    "    len1, len2 = m - l + 1, r - m \n",
    "    left, right = [], [] \n",
    "    for i in range(0, len1): \n",
    "        left.append(arr[l + i]) \n",
    "    for i in range(0, len2): \n",
    "        right.append(arr[m + 1 + i]) \n",
    "\n",
    "    i, j, k = 0, 0, l \n",
    "    # after comparing, we merge those two array \n",
    "    # in larger sub array \n",
    "    while i < len1 and j < len2: \n",
    "\n",
    "        if left[i] <= right[j]: \n",
    "            arr[k] = left[i] \n",
    "            i += 1\n",
    "\n",
    "        else: \n",
    "            arr[k] = right[j] \n",
    "            j += 1\n",
    "\n",
    "        k += 1\n",
    "\n",
    "    # copy remaining elements of left, if any \n",
    "    while i < len1: \n",
    "    \n",
    "        arr[k] = left[i] \n",
    "        k += 1\n",
    "        i += 1\n",
    "\n",
    "    # copy remaining element of right, if any \n",
    "    while j < len2: \n",
    "        arr[k] = right[j] \n",
    "        k += 1\n",
    "        j += 1\n",
    "\n",
    "# iterative Timsort function to sort the \n",
    "# array[0...n-1] (similar to merge sort) \n",
    "def timSort(arr, n): \n",
    "\n",
    "    # Sort individual subarrays of size RUN \n",
    "    for i in range(0, n, RUN): \n",
    "        insertionSort(arr, i, min((i+31), (n-1))) \n",
    "    \n",
    "    # start merging from size RUN (or 32). It will merge \n",
    "    # to form size 64, then 128, 256 and so on .... \n",
    "    size = RUN \n",
    "    while size < n: \n",
    "    \n",
    "        # pick starting point of left sub array. We \n",
    "        # are going to merge arr[left..left+size-1] \n",
    "        # and arr[left+size, left+2*size-1] \n",
    "        # After every merge, we increase left by 2*size \n",
    "        for left in range(0, n, 2*size): \n",
    "\n",
    "            # find ending point of left sub array \n",
    "            # mid+1 is starting point of right sub array \n",
    "            mid = left + size - 1\n",
    "            right = min((left + 2*size - 1), (n-1)) \n",
    "    \n",
    "            # merge sub array arr[left.....mid] & \n",
    "            # arr[mid+1....right] \n",
    "            merge(arr, left, mid, right) \n",
    "\n",
    "        size = 2*size \n",
    "\n",
    "# utility function to print the Array \n",
    "def printArray(arr, n): \n",
    "\n",
    "    for i in range(0, n): \n",
    "        print(arr[i], end = \" \") \n",
    "    print() \n",
    "\n",
    "\n",
    "# Driver program to test above function \n",
    "if __name__ == \"__main__\": \n",
    "\n",
    "    arr = np.random.randint(0,10,100)\n",
    "    n = len(arr) \n",
    "    timSort(arr, n) \n",
    "\n",
    "     \n",
    "\n",
    "end_time = time.time()\n",
    "time_elapsed = end_time - start_time \n",
    "print(\"Benchmark time equals\", time_elapsed)\n",
    "\n",
    "# This code is contributed by Rituraj Jain "
   ]
  },
  {
   "cell_type": "code",
   "execution_count": 17,
   "metadata": {},
   "outputs": [
    {
     "name": "stdout",
     "output_type": "stream",
     "text": [
      "The mean time in milliseconds is 0.002797651290893555\n"
     ]
    }
   ],
   "source": [
    "import numpy as np\n",
    "import statistics \n",
    "\n",
    "x = (0.0019979476928710938,0.0029981136322021484,0.0029973983764648438,0.0029976367950439453,0.0019991397857666016,\n",
    "    0.0029973983764648438,0.0019991397857666016,0.002995729446411133,0.003997325897216797,0.002996683120727539)\n",
    "\n",
    "y = sum(x)/10\n",
    "\n",
    "print(\"The mean time in milliseconds is\",y)"
   ]
  },
  {
   "cell_type": "markdown",
   "metadata": {},
   "source": [
    "## Benchmarking Table"
   ]
  },
  {
   "cell_type": "code",
   "execution_count": 21,
   "metadata": {},
   "outputs": [
    {
     "data": {
      "text/html": [
       "<div>\n",
       "<style scoped>\n",
       "    .dataframe tbody tr th:only-of-type {\n",
       "        vertical-align: middle;\n",
       "    }\n",
       "\n",
       "    .dataframe tbody tr th {\n",
       "        vertical-align: top;\n",
       "    }\n",
       "\n",
       "    .dataframe thead th {\n",
       "        text-align: right;\n",
       "    }\n",
       "</style>\n",
       "<table border=\"1\" class=\"dataframe\">\n",
       "  <thead>\n",
       "    <tr style=\"text-align: right;\">\n",
       "      <th></th>\n",
       "      <th>Time in milliseconds to sort an array of 100 numbers</th>\n",
       "    </tr>\n",
       "  </thead>\n",
       "  <tbody>\n",
       "    <tr>\n",
       "      <th>Bucket Sort</th>\n",
       "      <td>0.0012</td>\n",
       "    </tr>\n",
       "    <tr>\n",
       "      <th>Selection Sort</th>\n",
       "      <td>0.0235</td>\n",
       "    </tr>\n",
       "    <tr>\n",
       "      <th>Merge Sort</th>\n",
       "      <td>0.0010</td>\n",
       "    </tr>\n",
       "    <tr>\n",
       "      <th>QuickSort</th>\n",
       "      <td>0.0023</td>\n",
       "    </tr>\n",
       "    <tr>\n",
       "      <th>Timsort</th>\n",
       "      <td>0.0027</td>\n",
       "    </tr>\n",
       "  </tbody>\n",
       "</table>\n",
       "</div>"
      ],
      "text/plain": [
       "                Time in milliseconds to sort an array of 100 numbers\n",
       "Bucket Sort                                                0.0012   \n",
       "Selection Sort                                             0.0235   \n",
       "Merge Sort                                                 0.0010   \n",
       "QuickSort                                                  0.0023   \n",
       "Timsort                                                    0.0027   "
      ]
     },
     "execution_count": 21,
     "metadata": {},
     "output_type": "execute_result"
    }
   ],
   "source": [
    "import numpy as np\n",
    "import pandas as pd \n",
    "\n",
    "d = {'Time in milliseconds to sort an array of 100 numbers': pd.Series\n",
    "     ([0.0012,0.0235,0.0010,0.0023,0.0027],\n",
    "     index=['Bucket Sort','Selection Sort', 'Merge Sort', 'QuickSort', 'Timsort'])}\n",
    "df = pd.DataFrame(d)\n",
    "\n",
    "df"
   ]
  },
  {
   "cell_type": "code",
   "execution_count": null,
   "metadata": {},
   "outputs": [],
   "source": []
  }
 ],
 "metadata": {
  "kernelspec": {
   "display_name": "Python 3",
   "language": "python",
   "name": "python3"
  },
  "language_info": {
   "codemirror_mode": {
    "name": "ipython",
    "version": 3
   },
   "file_extension": ".py",
   "mimetype": "text/x-python",
   "name": "python",
   "nbconvert_exporter": "python",
   "pygments_lexer": "ipython3",
   "version": "3.6.5"
  }
 },
 "nbformat": 4,
 "nbformat_minor": 2
}
