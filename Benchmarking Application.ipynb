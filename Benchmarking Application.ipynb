{
 "cells": [
  {
   "cell_type": "markdown",
   "metadata": {},
   "source": [
    "# Python Application to Benchmark Algorithms"
   ]
  },
  {
   "cell_type": "markdown",
   "metadata": {},
   "source": [
    "## Bucket Sort"
   ]
  },
  {
   "cell_type": "code",
   "execution_count": 24,
   "metadata": {},
   "outputs": [
    {
     "name": "stdout",
     "output_type": "stream",
     "text": [
      "Benchmark time equals 0.0009987354278564453\n"
     ]
    }
   ],
   "source": [
    "# Python3 program to sort an array  \n",
    "# using bucket sort \n",
    "import time;\n",
    "start_time = time.time()\n",
    "import random\n",
    "import numpy as np\n",
    "\n",
    "\n",
    "def insertionSort(b): \n",
    "    for i in range(1, len(b)): \n",
    "        up = b[i] \n",
    "        j = i - 1\n",
    "        while j >=0 and b[j] > up:  \n",
    "            b[j + 1] = b[j] \n",
    "            j -= 1\n",
    "        b[j + 1] = up     \n",
    "    return b      \n",
    "              \n",
    "def bucketSort(x): \n",
    "    arr = [] \n",
    "    slot_num = 10 # 10 means 10 slots, each \n",
    "                  # slot's size is 0.1 \n",
    "    for i in range(slot_num): \n",
    "        arr.append([]) \n",
    "          \n",
    "    # Put array elements in different buckets  \n",
    "    for j in x: \n",
    "        index_b = int(slot_num * j)  \n",
    "        arr[index_b].append(j) \n",
    "      \n",
    "    # Sort individual buckets  \n",
    "    for i in range(slot_num): \n",
    "        arr[i] = insertionSort(arr[i]) \n",
    "          \n",
    "    # concatenate the result \n",
    "    k = 0\n",
    "    for i in range(slot_num): \n",
    "        for j in range(len(arr[i])): \n",
    "            x[k] = arr[i][j] \n",
    "            k += 1\n",
    "    return x \n",
    "  \n",
    "# Driver Code \n",
    "x = np.random.randint(0,10,1000) \n",
    " \n",
    "  \n",
    "# This code is contributed by \n",
    "# Oneil Hsiao \n",
    "\n",
    "end_time = time.time()\n",
    "time_elapsed = end_time - start_time \n",
    "print(\"Benchmark time equals\", time_elapsed)\n"
   ]
  },
  {
   "cell_type": "code",
   "execution_count": 25,
   "metadata": {},
   "outputs": [
    {
     "name": "stdout",
     "output_type": "stream",
     "text": [
      "The mean time in milliseconds is 0.0011984825134277344\n"
     ]
    }
   ],
   "source": [
    "import numpy as np\n",
    "import statistics \n",
    "\n",
    "x = (0.001996278762817383,0.0019960403442382812,0.0010001659393310547,0.00099945068359375,0.0009989738464355469,\n",
    "    0.00099945068359375,0.0009987354278564453,0.00099945068359375,0.0009975433349609375,0.0009987354278564453)\n",
    "\n",
    "y = sum(x)/10\n",
    "\n",
    "print(\"The mean time in milliseconds is\",y)"
   ]
  },
  {
   "cell_type": "markdown",
   "metadata": {},
   "source": [
    "Array 100\n",
    "0.0009984970092773438\n",
    "0.0009992122650146484\n",
    "0.0019996166229248047\n",
    "0.0009999275207519531\n",
    "0.001998424530029297\n",
    "0.0009992122650146484\n",
    "0.0010006427764892578\n",
    "0.0009961128234863281\n",
    "0.0009996891021728516\n",
    "0.0019989013671875\n",
    "\n"
   ]
  },
  {
   "cell_type": "code",
   "execution_count": 25,
   "metadata": {},
   "outputs": [
    {
     "name": "stdout",
     "output_type": "stream",
     "text": [
      "The mean time in milliseconds is 0.0012990236282348633\n"
     ]
    }
   ],
   "source": [
    "import numpy as np\n",
    "import statistics \n",
    "\n",
    "x = (0.0009984970092773438,\n",
    "0.0009992122650146484,\n",
    "0.0019996166229248047,\n",
    "0.0009999275207519531,\n",
    "0.001998424530029297,\n",
    "0.0009992122650146484,\n",
    "0.0010006427764892578,\n",
    "0.0009961128234863281,\n",
    "0.0009996891021728516,\n",
    "0.0019989013671875)\n",
    "\n",
    "y = sum(x)/10\n",
    "\n",
    "print(\"The mean time in milliseconds is\",y)"
   ]
  },
  {
   "cell_type": "markdown",
   "metadata": {},
   "source": [
    "## Selection Sort"
   ]
  },
  {
   "cell_type": "code",
   "execution_count": 38,
   "metadata": {},
   "outputs": [
    {
     "name": "stdout",
     "output_type": "stream",
     "text": [
      "Benchmark time equals 0.3547830581665039\n"
     ]
    }
   ],
   "source": [
    "# Python program for implementation of Selection \n",
    "# Sort \n",
    "import time;\n",
    "start_time = time.time()\n",
    "import numpy as np\n",
    "import random\n",
    "\n",
    "import sys \n",
    "A = np.random.randint(0,10,1000) \n",
    "\n",
    "# Traverse through all array elements \n",
    "for i in range(len(A)): \n",
    "\n",
    "    # Find the minimum element in remaining \n",
    "    # unsorted array \n",
    "    min_idx = i \n",
    "    for j in range(i+1, len(A)): \n",
    "        if A[min_idx] > A[j]: \n",
    "            min_idx = j \n",
    "\n",
    "    # Swap the found minimum element with \n",
    "    # the first element\t\t \n",
    "    A[i], A[min_idx] = A[min_idx], A[i] \n",
    "\n",
    "# Driver code to test above \n",
    "    \n",
    "end_time = time.time()\n",
    "time_elapsed = end_time - start_time \n",
    "print(\"Benchmark time equals\", time_elapsed)\n",
    "### https://www.geeksforgeeks.org/python-program-for-selection-sort/ "
   ]
  },
  {
   "cell_type": "code",
   "execution_count": 39,
   "metadata": {},
   "outputs": [
    {
     "name": "stdout",
     "output_type": "stream",
     "text": [
      "The mean time in milliseconds is 0.35318305492401125\n"
     ]
    }
   ],
   "source": [
    "#1000 Numbers in the array\n",
    "import numpy as np\n",
    "import statistics \n",
    "\n",
    "x = (0.33779287338256836,0.3657712936401367,0.3637726306915283,0.34778928756713867,0.35178303718566895,\n",
    "    0.35578227043151855,0.3647785186767578,0.3467874526977539,0.3427901268005371,0.3547830581665039)\n",
    "\n",
    "y = sum(x)/10\n",
    "\n",
    "print(\"The mean time in milliseconds is\",y)"
   ]
  },
  {
   "cell_type": "code",
   "execution_count": 9,
   "metadata": {},
   "outputs": [
    {
     "name": "stdout",
     "output_type": "stream",
     "text": [
      "The mean time in milliseconds is 0.023584532737731933\n"
     ]
    }
   ],
   "source": [
    "#100 Numbers in the array\n",
    "import numpy as np\n",
    "import statistics \n",
    "\n",
    "x = (0.0029985904693603516,0.003996372222900391,0.003998279571533203,0.19287800788879395,0.0039975643157958984,\n",
    "     0.004997730255126953,0.0069921016693115234,0.007994651794433594,0.003995656967163086,0.003996372222900391)\n",
    "\n",
    "y = sum(x)/10\n",
    "\n",
    "print(\"The mean time in milliseconds is\",y)"
   ]
  },
  {
   "cell_type": "markdown",
   "metadata": {},
   "source": [
    "## MergeSort"
   ]
  },
  {
   "cell_type": "code",
   "execution_count": 50,
   "metadata": {},
   "outputs": [
    {
     "name": "stdout",
     "output_type": "stream",
     "text": [
      "Benchmark time equals 0.0009965896606445312\n"
     ]
    }
   ],
   "source": [
    "# Python program for implementation of MergeSort \n",
    "import time;\n",
    "start_time = time.time()\n",
    "import numpy as np\n",
    "import random\n",
    "\n",
    "def mergeSort(arr): \n",
    "    if len(arr) >1: \n",
    "        mid = len(arr)//2 #Finding the mid of the array \n",
    "        L = arr[:mid] # Dividing the array elements \n",
    "        R = arr[mid:] # into 2 halves \n",
    "\n",
    "        mergeSort(L) # Sorting the first half \n",
    "        mergeSort(R) # Sorting the second half \n",
    "\n",
    "        i = j = k = 0\n",
    "\n",
    "        # Copy data to temp arrays L[] and R[] \n",
    "        while i < len(L) and j < len(R): \n",
    "            if L[i] < R[j]: \n",
    "                arr[k] = L[i] \n",
    "                i+=1\n",
    "            else: \n",
    "                arr[k] = R[j] \n",
    "                j+=1\n",
    "            k+=1\n",
    "\n",
    "        # Checking if any element was left \n",
    "        while i < len(L): \n",
    "            arr[k] = L[i] \n",
    "            i+=1\n",
    "            k+=1\n",
    "\n",
    "        while j < len(R): \n",
    "            arr[k] = R[j] \n",
    "            j+=1\n",
    "            k+=1\n",
    "\n",
    "# Code to print the list \n",
    "def printList(arr): \n",
    "    for i in range(len(arr)):\n",
    "        print(arr[i],end=\" \") \n",
    "    print() \n",
    "\n",
    "# driver code to test the above code \n",
    "if __name__ == '__main__': \n",
    "    arr = np.random.randint(0,10,1000)\n",
    "     \n",
    "\n",
    "end_time = time.time()\n",
    "time_elapsed = end_time - start_time \n",
    "print(\"Benchmark time equals\", time_elapsed)\n",
    "\n",
    "# This code is contributed by Mayank Khanna "
   ]
  },
  {
   "cell_type": "code",
   "execution_count": 51,
   "metadata": {},
   "outputs": [
    {
     "name": "stdout",
     "output_type": "stream",
     "text": [
      "The mean time in milliseconds is 0.0009992361068725587\n"
     ]
    }
   ],
   "source": [
    "import numpy as np\n",
    "import statistics \n",
    "\n",
    "x = (0.0010004043579101562,0.0010001659393310547,0.0009987354278564453,0.0009987354278564453,0.0009996891021728516,\n",
    "    0.00099945068359375,0.0010001659393310547,0.0009989738464355469,0.00099945068359375,0.0009965896606445312)\n",
    "\n",
    "y = sum(x)/10\n",
    "\n",
    "print(\"The mean time in milliseconds is\",y)"
   ]
  },
  {
   "cell_type": "code",
   "execution_count": 30,
   "metadata": {},
   "outputs": [
    {
     "name": "stdout",
     "output_type": "stream",
     "text": [
      "The mean time in milliseconds is 0.0010991573333740234\n"
     ]
    }
   ],
   "source": [
    "import numpy as np\n",
    "import statistics \n",
    "\n",
    "x = (0.0010001659393310547,0.0009992122650146484,0.00099945068359375,0.0009984970092773438,0.0009984970092773438,\n",
    "    0.0010001659393310547,0.001998424530029297,0.0009984970092773438,0.0009996891021728516,0.0009989738464355469)\n",
    "\n",
    "y = sum(x)/10\n",
    "\n",
    "print(\"The mean time in milliseconds is\",y)"
   ]
  },
  {
   "cell_type": "markdown",
   "metadata": {},
   "source": [
    "## QuickSort"
   ]
  },
  {
   "cell_type": "code",
   "execution_count": 61,
   "metadata": {},
   "outputs": [
    {
     "name": "stdout",
     "output_type": "stream",
     "text": [
      "Benchmark time equals 0.07195568084716797\n"
     ]
    }
   ],
   "source": [
    "# Python program for implementation of Quicksort Sort \n",
    "\n",
    "# This function takes last element as pivot, places \n",
    "# the pivot element at its correct position in sorted \n",
    "# array, and places all smaller (smaller than pivot) \n",
    "# to left of pivot and all greater elements to right \n",
    "# of pivot\n",
    "import time;\n",
    "start_time = time.time()\n",
    "import numpy as np\n",
    "import random\n",
    "\n",
    "def partition(arr,low,high): \n",
    "    i = ( low-1 )\t\t # index of smaller element \n",
    "    pivot = arr[high]\t # pivot \n",
    "\n",
    "    for j in range(low , high): \n",
    "\n",
    "        # If current element is smaller than or \n",
    "        # equal to pivot \n",
    "        if arr[j] <= pivot: \n",
    "\n",
    "            # increment index of smaller element \n",
    "            i = i+1\n",
    "            arr[i],arr[j] = arr[j],arr[i] \n",
    "\n",
    "    arr[i+1],arr[high] = arr[high],arr[i+1] \n",
    "    return ( i+1 ) \n",
    "\n",
    "# The main function that implements QuickSort \n",
    "# arr[] --> Array to be sorted, \n",
    "# low --> Starting index, \n",
    "# high --> Ending index \n",
    "\n",
    "# Function to do Quick sort \n",
    "def quickSort(arr,low,high): \n",
    "    if low < high: \n",
    "\n",
    "        # pi is partitioning index, arr[p] is now \n",
    "        # at right place \n",
    "        pi = partition(arr,low,high) \n",
    "\n",
    "        # Separately sort elements before \n",
    "        # partition and after partition \n",
    "        quickSort(arr, low, pi-1) \n",
    "        quickSort(arr, pi+1, high) \n",
    "\n",
    "# Driver code to test above \n",
    "arr = np.random.randint(0,10,1000)\n",
    "n = len(arr) \n",
    "quickSort(arr,0,n-1) \n",
    "\n",
    "    \n",
    "end_time = time.time()\n",
    "time_elapsed = end_time - start_time \n",
    "print(\"Benchmark time equals\", time_elapsed)"
   ]
  },
  {
   "cell_type": "code",
   "execution_count": 62,
   "metadata": {},
   "outputs": [
    {
     "name": "stdout",
     "output_type": "stream",
     "text": [
      "The mean time in milliseconds is 0.06985681056976319\n"
     ]
    }
   ],
   "source": [
    "import numpy as np\n",
    "import statistics \n",
    "\n",
    "x = (0.07895421981811523,0.06995224952697754,0.06295967102050781,0.07195568084716797,0.07095623016357422,\n",
    "    0.06696033477783203,0.07195639610290527,0.06496024131774902,0.06795740127563477,0.07195568084716797)\n",
    "\n",
    "y = sum(x)/10\n",
    "\n",
    "print(\"The mean time in milliseconds is\",y)"
   ]
  },
  {
   "cell_type": "code",
   "execution_count": 45,
   "metadata": {},
   "outputs": [
    {
     "name": "stdout",
     "output_type": "stream",
     "text": [
      "The mean time in milliseconds is 0.0023978471755981444\n"
     ]
    }
   ],
   "source": [
    "import numpy as np\n",
    "import statistics \n",
    "\n",
    "x = (0.0029981136322021484,0.0019979476928710938,0.001998424530029297,0.001997709274291992,0.001998424530029297,\n",
    "    0.0019979476928710938,0.0029969215393066406,0.0029973983764648438,0.0019981861114501953,0.0029973983764648438)\n",
    "\n",
    "y = sum(x)/10\n",
    "\n",
    "print(\"The mean time in milliseconds is\",y)"
   ]
  },
  {
   "cell_type": "markdown",
   "metadata": {},
   "source": [
    "## TimSort"
   ]
  },
  {
   "cell_type": "code",
   "execution_count": 72,
   "metadata": {},
   "outputs": [
    {
     "name": "stdout",
     "output_type": "stream",
     "text": [
      "Benchmark time equals 0.02498340606689453\n"
     ]
    }
   ],
   "source": [
    "# Python3 program to perform TimSort. \n",
    "import time;\n",
    "start_time = time.time()\n",
    "import numpy as np\n",
    "import random\n",
    "\n",
    "RUN = 32\n",
    "\n",
    "# This function sorts array from left index to \n",
    "# to right index which is of size atmost RUN \n",
    "def insertionSort(arr, left, right): \n",
    "\n",
    "    for i in range(left + 1, right+1): \n",
    "\n",
    "        temp = arr[i] \n",
    "        j = i - 1\n",
    "        while arr[j] > temp and j >= left: \n",
    "\n",
    "            arr[j+1] = arr[j] \n",
    "            j -= 1\n",
    "            \n",
    "        arr[j+1] = temp \n",
    "\n",
    "# merge function merges the sorted runs \n",
    "def merge(arr, l, m, r): \n",
    "\n",
    "    # original array is broken in two parts \n",
    "    # left and right array \n",
    "    len1, len2 = m - l + 1, r - m \n",
    "    left, right = [], [] \n",
    "    for i in range(0, len1): \n",
    "        left.append(arr[l + i]) \n",
    "    for i in range(0, len2): \n",
    "        right.append(arr[m + 1 + i]) \n",
    "\n",
    "    i, j, k = 0, 0, l \n",
    "    # after comparing, we merge those two array \n",
    "    # in larger sub array \n",
    "    while i < len1 and j < len2: \n",
    "\n",
    "        if left[i] <= right[j]: \n",
    "            arr[k] = left[i] \n",
    "            i += 1\n",
    "\n",
    "        else: \n",
    "            arr[k] = right[j] \n",
    "            j += 1\n",
    "\n",
    "        k += 1\n",
    "\n",
    "    # copy remaining elements of left, if any \n",
    "    while i < len1: \n",
    "    \n",
    "        arr[k] = left[i] \n",
    "        k += 1\n",
    "        i += 1\n",
    "\n",
    "    # copy remaining element of right, if any \n",
    "    while j < len2: \n",
    "        arr[k] = right[j] \n",
    "        k += 1\n",
    "        j += 1\n",
    "\n",
    "# iterative Timsort function to sort the \n",
    "# array[0...n-1] (similar to merge sort) \n",
    "def timSort(arr, n): \n",
    "\n",
    "    # Sort individual subarrays of size RUN \n",
    "    for i in range(0, n, RUN): \n",
    "        insertionSort(arr, i, min((i+31), (n-1))) \n",
    "    \n",
    "    # start merging from size RUN (or 32). It will merge \n",
    "    # to form size 64, then 128, 256 and so on .... \n",
    "    size = RUN \n",
    "    while size < n: \n",
    "    \n",
    "        # pick starting point of left sub array. We \n",
    "        # are going to merge arr[left..left+size-1] \n",
    "        # and arr[left+size, left+2*size-1] \n",
    "        # After every merge, we increase left by 2*size \n",
    "        for left in range(0, n, 2*size): \n",
    "\n",
    "            # find ending point of left sub array \n",
    "            # mid+1 is starting point of right sub array \n",
    "            mid = left + size - 1\n",
    "            right = min((left + 2*size - 1), (n-1)) \n",
    "    \n",
    "            # merge sub array arr[left.....mid] & \n",
    "            # arr[mid+1....right] \n",
    "            merge(arr, left, mid, right) \n",
    "\n",
    "        size = 2*size \n",
    "\n",
    "# utility function to print the Array \n",
    "def printArray(arr, n): \n",
    "\n",
    "    for i in range(0, n): \n",
    "        print(arr[i], end = \" \") \n",
    "    print() \n",
    "\n",
    "\n",
    "# Driver program to test above function \n",
    "if __name__ == \"__main__\": \n",
    "\n",
    "    arr = np.random.randint(0,10,1000)\n",
    "    n = len(arr) \n",
    "    timSort(arr, n) \n",
    "\n",
    "     \n",
    "\n",
    "end_time = time.time()\n",
    "time_elapsed = end_time - start_time \n",
    "print(\"Benchmark time equals\", time_elapsed)\n",
    "\n",
    "# This code is contributed by Rituraj Jain "
   ]
  },
  {
   "cell_type": "code",
   "execution_count": 74,
   "metadata": {},
   "outputs": [
    {
     "name": "stdout",
     "output_type": "stream",
     "text": [
      "The mean time in milliseconds is 0.01828811168670654\n"
     ]
    }
   ],
   "source": [
    "import numpy as np\n",
    "import statistics \n",
    "\n",
    "x = (0.0179903507232666,0.012992620468139648,0.016989946365356445,0.021986722946166992,0.021984100341796875,\n",
    "    0.013992071151733398,0.02298569679260254,0.012988805770874023,0.015987396240234375,0.02498340606689453)\n",
    "\n",
    "y = sum(x)/10\n",
    "\n",
    "print(\"The mean time in milliseconds is\",y)"
   ]
  },
  {
   "cell_type": "code",
   "execution_count": 17,
   "metadata": {},
   "outputs": [
    {
     "name": "stdout",
     "output_type": "stream",
     "text": [
      "The mean time in milliseconds is 0.002797651290893555\n"
     ]
    }
   ],
   "source": [
    "import numpy as np\n",
    "import statistics \n",
    "\n",
    "x = (0.0019979476928710938,0.0029981136322021484,0.0029973983764648438,0.0029976367950439453,0.0019991397857666016,\n",
    "    0.0029973983764648438,0.0019991397857666016,0.002995729446411133,0.003997325897216797,0.002996683120727539)\n",
    "\n",
    "y = sum(x)/10\n",
    "\n",
    "print(\"The mean time in milliseconds is\",y)"
   ]
  },
  {
   "cell_type": "markdown",
   "metadata": {},
   "source": [
    "## Benchmarking Table"
   ]
  },
  {
   "cell_type": "code",
   "execution_count": 75,
   "metadata": {},
   "outputs": [
    {
     "data": {
      "text/html": [
       "<div>\n",
       "<style scoped>\n",
       "    .dataframe tbody tr th:only-of-type {\n",
       "        vertical-align: middle;\n",
       "    }\n",
       "\n",
       "    .dataframe tbody tr th {\n",
       "        vertical-align: top;\n",
       "    }\n",
       "\n",
       "    .dataframe thead th {\n",
       "        text-align: right;\n",
       "    }\n",
       "</style>\n",
       "<table border=\"1\" class=\"dataframe\">\n",
       "  <thead>\n",
       "    <tr style=\"text-align: right;\">\n",
       "      <th></th>\n",
       "      <th>Time in milliseconds to sort an array of 100 numbers</th>\n",
       "      <th>1000 Numbers</th>\n",
       "    </tr>\n",
       "  </thead>\n",
       "  <tbody>\n",
       "    <tr>\n",
       "      <th>Bucket Sort</th>\n",
       "      <td>0.0012</td>\n",
       "      <td>0.0011</td>\n",
       "    </tr>\n",
       "    <tr>\n",
       "      <th>Selection Sort</th>\n",
       "      <td>0.0235</td>\n",
       "      <td>0.3531</td>\n",
       "    </tr>\n",
       "    <tr>\n",
       "      <th>Merge Sort</th>\n",
       "      <td>0.0010</td>\n",
       "      <td>0.0009</td>\n",
       "    </tr>\n",
       "    <tr>\n",
       "      <th>QuickSort</th>\n",
       "      <td>0.0023</td>\n",
       "      <td>0.0698</td>\n",
       "    </tr>\n",
       "    <tr>\n",
       "      <th>Timsort</th>\n",
       "      <td>0.0027</td>\n",
       "      <td>0.0182</td>\n",
       "    </tr>\n",
       "  </tbody>\n",
       "</table>\n",
       "</div>"
      ],
      "text/plain": [
       "                Time in milliseconds to sort an array of 100 numbers  \\\n",
       "Bucket Sort                                                0.0012      \n",
       "Selection Sort                                             0.0235      \n",
       "Merge Sort                                                 0.0010      \n",
       "QuickSort                                                  0.0023      \n",
       "Timsort                                                    0.0027      \n",
       "\n",
       "                1000 Numbers  \n",
       "Bucket Sort           0.0011  \n",
       "Selection Sort        0.3531  \n",
       "Merge Sort            0.0009  \n",
       "QuickSort             0.0698  \n",
       "Timsort               0.0182  "
      ]
     },
     "execution_count": 75,
     "metadata": {},
     "output_type": "execute_result"
    }
   ],
   "source": [
    "import numpy as np\n",
    "import pandas as pd \n",
    "\n",
    "d = {'Time in milliseconds to sort an array of 100 numbers': pd.Series([0.0012,0.0235,0.0010,0.0023,0.0027],index=['Bucket Sort','Selection Sort', 'Merge Sort', 'QuickSort', 'Timsort']),\n",
    "    '1000 Numbers': pd.Series([ 0.0011,0.3531, 0.0009,0.0698,0.0182],index=['Bucket Sort','Selection Sort', 'Merge Sort', 'QuickSort', 'Timsort'])}\n",
    "df = pd.DataFrame(d)\n",
    "\n",
    "df"
   ]
  }
 ],
 "metadata": {
  "kernelspec": {
   "display_name": "Python 3",
   "language": "python",
   "name": "python3"
  },
  "language_info": {
   "codemirror_mode": {
    "name": "ipython",
    "version": 3
   },
   "file_extension": ".py",
   "mimetype": "text/x-python",
   "name": "python",
   "nbconvert_exporter": "python",
   "pygments_lexer": "ipython3",
   "version": "3.6.5"
  }
 },
 "nbformat": 4,
 "nbformat_minor": 2
}
